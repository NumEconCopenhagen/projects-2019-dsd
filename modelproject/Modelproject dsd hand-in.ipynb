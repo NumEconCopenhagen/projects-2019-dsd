{
 "cells": [
  {
   "cell_type": "code",
   "execution_count": 2,
   "metadata": {},
   "outputs": [],
   "source": [
    "import numpy as np\n",
    "import scipy as sp\n",
    "from numpy import array\n",
    "from scipy import linalg\n",
    "from scipy import optimize\n",
    "import ipywidgets as widgets\n",
    "import matplotlib.pyplot as plt"
   ]
  },
  {
   "cell_type": "markdown",
   "metadata": {},
   "source": [
    "# Introduction"
   ]
  },
  {
   "cell_type": "markdown",
   "metadata": {},
   "source": [
    "The goal of this project is to model how two firms determine the efficient amount of a good to produce in a Cournot competetition.\n",
    "\n",
    "The following assumptions are used in the model:\n",
    "- There are two firms (1 and 2), who produce the same homogenous product\n",
    "- Cooperation between the two firms is not allowed.\n",
    "- The two firms choose simultaneously the quaintity to produce ($q_1$ and $q_2$).\n",
    "- The total amount of the good equals $Q = q_1 + q_2$\n",
    "- The market price is decreasing in the total quantity: $P(Q)=a-Q$, where $a$ is a constant\n",
    "- Both firms have the same marginal cost $c$, where we assume $0 \\leq c<a$\n",
    "\n",
    "The two-firm model is later extended with an additional firm."
   ]
  },
  {
   "cell_type": "code",
   "execution_count": 3,
   "metadata": {},
   "outputs": [],
   "source": [
    "# We define the inverse demand function:\n",
    "\n",
    "def p(q1,q2,a):\n",
    "    return a - q1 - q2\n",
    "\n",
    "# We define the cost function:\n",
    "\n",
    "def cost(q,c):\n",
    "    cost = q * c\n",
    "    return cost\n",
    "\n",
    "# We define the profit function for firm 1:\n",
    "\n",
    "def profit1(q1,q2,a,c):\n",
    "    return p(q1,q2,a) * q1 - cost(q1,c)\n",
    "\n",
    "# We define the profit function for firm 2:\n",
    "\n",
    "def profit2(q1,q2,a,c):\n",
    "    return p(q1,q2,a) * q2 - cost(q2,c)"
   ]
  },
  {
   "cell_type": "markdown",
   "metadata": {},
   "source": [
    "We now define the best response function for firm 1 and 2, which are symmetrical, as they solve the identical problem:"
   ]
  },
  {
   "cell_type": "code",
   "execution_count": 10,
   "metadata": {},
   "outputs": [],
   "source": [
    "# Initial guess:\n",
    "\n",
    "q0 = [1]\n",
    "\n",
    "def best_response1(q2,a,c):\n",
    "    q1opt = optimize.minimize(lambda q0: -profit1(q0,q2,a,c), q0).x[0]\n",
    "    return q1opt\n",
    "\n",
    "def best_response2(q1,a,c):\n",
    "    q2opt = optimize.minimize(lambda q0: -profit2(q1,q0,a,c), q0).x[0]\n",
    "    return q2opt"
   ]
  },
  {
   "cell_type": "markdown",
   "metadata": {},
   "source": [
    "In a Nash equilibrium we must have, that the both firms produce an amount, which corresponds to a best response given what the other firm chooses to produce. Therefore, we have the following two equations with two unknown parameters. These two equations must be solved to find a Nash equilibrium."
   ]
  },
  {
   "cell_type": "code",
   "execution_count": 11,
   "metadata": {},
   "outputs": [],
   "source": [
    "def conditions(q,parameters):\n",
    "    u = q[0] - best_response1(q[1],parameters[0],parameters[1])\n",
    "    y = q[1] - best_response2(q[0],parameters[0],parameters[2])\n",
    "    return [u,y]"
   ]
  },
  {
   "cell_type": "markdown",
   "metadata": {},
   "source": [
    "We now define the two vectors, one which consists of the initial values for the production of each firm $q$. We then solve the two equations (u and y), by using optimization and the initial starting point defined in $q$ and the chosen parameters in the vector \"parameters\". Below we have expanded with float sliders where you can choose the marginal cost of each firm and the intersection, whereafter the nash equilibrium of the production for the firms can be observed. The production function is defined for each firm, where the production is set to 0, in case of a negative production."
   ]
  },
  {
   "cell_type": "code",
   "execution_count": 12,
   "metadata": {},
   "outputs": [
    {
     "data": {
      "application/vnd.jupyter.widget-view+json": {
       "model_id": "fc03179d837343b89b98df6c107c4537",
       "version_major": 2,
       "version_minor": 0
      },
      "text/plain": [
       "interactive(children=(FloatSlider(value=0.0, description='$c_1$', max=5.0), FloatSlider(value=0.0, description…"
      ]
     },
     "metadata": {},
     "output_type": "display_data"
    },
    {
     "data": {
      "text/plain": [
       "<function __main__.f(c1, c2, a)>"
      ]
     },
     "execution_count": 12,
     "metadata": {},
     "output_type": "execute_result"
    }
   ],
   "source": [
    "# Production vector, initial values:\n",
    "\n",
    "q = [2,2]\n",
    "\n",
    "# Here we define the function, f, which contains a solver that solves the Nash equilibrium,\n",
    "# given the parameters that are chosen in the sliders below.\n",
    "\n",
    "def f(c1,c2,a):\n",
    "    parameters = [a,c1,c2]\n",
    "    solver = optimize.fsolve(conditions,q,args=(parameters))\n",
    "    if solver[0] < 0:\n",
    "        solver[0] = 0\n",
    "    if solver[1] < 0:\n",
    "        solver[1] = 0\n",
    "        \n",
    "    print(\"\\n Nash Equilibrium: \\n The Nash equilibrium, firm 1 produces \" + str(round(solver[0],2)) + \" units and firm 2 produces \" + str(round(solver[1],2)) + \" units.\")\n",
    "\n",
    "# Here three sliders are created:\n",
    "    \n",
    "widgets.interact(f,\n",
    "    c1 = widgets.FloatSlider(description=\"$c_1$\",min=0,max=5),\n",
    "    c2 = widgets.FloatSlider(description=\"$c_2$\",min=0,max=5),\n",
    "    a = widgets.FloatSlider(description=\"$a$\", min=5,max=10),\n",
    " )"
   ]
  },
  {
   "cell_type": "markdown",
   "metadata": {},
   "source": [
    "# Plots"
   ]
  },
  {
   "cell_type": "markdown",
   "metadata": {},
   "source": [
    "We can now plot the output of firm 1 as a function of the output for firm 2, given $a$ and $c$:"
   ]
  },
  {
   "cell_type": "code",
   "execution_count": 13,
   "metadata": {},
   "outputs": [
    {
     "data": {
      "application/vnd.jupyter.widget-view+json": {
       "model_id": "c232e3ffd13544f599d494d174607ea7",
       "version_major": 2,
       "version_minor": 0
      },
      "text/plain": [
       "interactive(children=(FloatSlider(value=5.0, description='$a$', max=10.0, min=5.0), FloatSlider(value=0.0, des…"
      ]
     },
     "metadata": {},
     "output_type": "display_data"
    },
    {
     "data": {
      "text/plain": [
       "<function __main__.g(a, c)>"
      ]
     },
     "execution_count": 13,
     "metadata": {},
     "output_type": "execute_result"
    }
   ],
   "source": [
    "def g(a,c):\n",
    "    \n",
    "# Creating empty box:\n",
    "    prod2 = np.arange(0,10,0.1)\n",
    "    prod1 = []\n",
    "\n",
    "    for q2 in prod2:\n",
    "        q1 = round(best_response1(q2,a,c),3)\n",
    "\n",
    "    # Adding the best response production to the empty box:\n",
    "        prod1.append(q1)\n",
    "\n",
    "    plt.title(\"Figure 1: Best response for firm 1 (blue) and production level\\n for firm 2 (orange), given production level for firm 2\")\n",
    "    plt.ylabel(\"q\")\n",
    "    plt.xlabel(\"$q_2$\")\n",
    "    plt.plot(prod2, prod1)\n",
    "    plt.plot(prod2, prod2)\n",
    "\n",
    "widgets.interact(g,\n",
    "    a = widgets.FloatSlider(description=\"$a$\",min=5,max=10),\n",
    "    c = widgets.FloatSlider(description=\"$c$\",min=0,max=5)\n",
    " )"
   ]
  },
  {
   "cell_type": "markdown",
   "metadata": {},
   "source": [
    "In figure 1 we see the best response for firm 1 (blue curve) given production level of firm 2 and production level of firm 2 given the production level of firm 2 (orange curve, 45 degree line). We see, that the best response production level for firm 1 is negatively correlated with the production level of firm 2. Furthermore, we see that the intersection between the two curves corresponds to a Nash-equilibrium point, given the parameters (more on Nash equilibrium below)."
   ]
  },
  {
   "cell_type": "markdown",
   "metadata": {},
   "source": [
    "Below we plot both the best respons functions against the marginal cost $c$, given $a = 10$:"
   ]
  },
  {
   "cell_type": "code",
   "execution_count": 14,
   "metadata": {},
   "outputs": [],
   "source": [
    "# Here we define different marginal costs and production for firm 1 and 2:\n",
    "\n",
    "costs = np.arange(0,5,0.1)\n",
    "prod1 = np.arange(0,5,0.1)\n",
    "prod2 = np.arange(0,5,0.1)\n",
    "\n",
    "# Creating empty boxes:\n",
    "\n",
    "x = []\n",
    "y = []\n",
    "\n",
    "for q2 in prod2:\n",
    "    q1 = round(best_response1(q2,10,0),3)\n",
    "    x.append(q1)\n",
    "    \n",
    "for c, q1 in zip(costs,prod1):\n",
    "    q2 = round(best_response2(q1,10,c),3)\n",
    "    y.append(q2)"
   ]
  },
  {
   "cell_type": "code",
   "execution_count": 15,
   "metadata": {},
   "outputs": [
    {
     "data": {
      "text/plain": [
       "[<matplotlib.lines.Line2D at 0x1fae0604748>]"
      ]
     },
     "execution_count": 15,
     "metadata": {},
     "output_type": "execute_result"
    },
    {
     "data": {
      "image/png": "[encoded data removed]",
      "text/plain": [
       "<Figure size 432x288 with 1 Axes>"
      ]
     },
     "metadata": {
      "needs_background": "light"
     },
     "output_type": "display_data"
    }
   ],
   "source": [
    "plt.title(\"Figure 2: Best response for firms with marginal cost $c = 0$ (blue) and best response for firms\\nwith increasing marginal cost (orange) given produciton level of the other firm\")\n",
    "plt.ylabel(\"q best response\")\n",
    "plt.xlabel(\"q other firm\")\n",
    "plt.plot(costs, x)\n",
    "plt.plot(costs, y)"
   ]
  },
  {
   "cell_type": "markdown",
   "metadata": {},
   "source": [
    "In figure 2, we see a plot showing the best response for a firm (blue curve) with marginal cost $c=0$ and $a=10$. We also see a best response for a firm (orange curve) with increasing marginal costs going from 0 to 5, as production of the other firm increases correspondingly and $a=10$. The point here is, that the gap between the two curves increases drastically, as the marginal cost increases. If we for example look at a production level of the other firm of 5 units (x-axis), then the firm with no marginal cost will produce 3 units (blue curve), while the firm with marginal cost = 5 will produce 0 units (orange curve). Note that the x-axis shows both the production level of the other firm and the costs in the case where the marginal costs are increasing (orange curve)."
   ]
  },
  {
   "cell_type": "code",
   "execution_count": 17,
   "metadata": {},
   "outputs": [
    {
     "data": {
      "application/vnd.jupyter.widget-view+json": {
       "model_id": "69d8c516aeba45c3b2f82b9052f374c6",
       "version_major": 2,
       "version_minor": 0
      },
      "text/plain": [
       "interactive(children=(FloatSlider(value=0.0, description='$c_1$', max=5.0), FloatSlider(value=0.0, description…"
      ]
     },
     "metadata": {},
     "output_type": "display_data"
    },
    {
     "data": {
      "text/plain": [
       "<function __main__.f(c1, c2)>"
      ]
     },
     "execution_count": 17,
     "metadata": {},
     "output_type": "execute_result"
    }
   ],
   "source": [
    "prod1 = np.arange(0,5,0.1)\n",
    "prod2 = np.arange(0,5,0.1)\n",
    "\n",
    "def f(c1,c2):\n",
    "#Create empty lists:\n",
    "    x = []\n",
    "    y = []\n",
    "\n",
    "    for q2 in prod2:\n",
    "        q1 = round(best_response1(q2,10,c1),3)\n",
    "        x.append(q1) #Adding data to the x-list\n",
    "\n",
    "    for q1 in prod1:\n",
    "        q2 = round(best_response2(q1,10,c2),3)\n",
    "        y.append(q2) #Adding data to the y-list\n",
    "        \n",
    "    #Creating figure 3:\n",
    "    plt.title(\"Figure 3: Best response for firm 1 with marginal cost $c_1$ (blue) and best response for\\nfirm 2 with marginal cost $c_2$ (orange) given produciton level of the other firm\")\n",
    "    plt.ylabel(\"q best response\")\n",
    "    plt.xlabel(\"q other firm\")\n",
    "    plt.plot(prod2,x)\n",
    "    plt.plot(prod1,y)\n",
    "\n",
    "widgets.interact(f,\n",
    "    c1 = widgets.FloatSlider(description=\"$c_1$\",min=0,max=5),\n",
    "    c2 = widgets.FloatSlider(description=\"$c_2$\",min=0,max=5),\n",
    " )"
   ]
  },
  {
   "cell_type": "markdown",
   "metadata": {},
   "source": [
    "In figure 3, the blue curve corresponds to the best response for firm 1 given the production level of firm 2 and the marginal cost $c_1$ of firm 1. The orange curve corresponds to the best response for firm 2 given the production level of firm 1 and the marginal cost $c_2$ of firm 2. The maginal costs for both firms can separetely be adjusted above in the sliders. A higher marginal cost shifts the best response curve downwards."
   ]
  },
  {
   "cell_type": "markdown",
   "metadata": {},
   "source": [
    "# Three firms extension"
   ]
  },
  {
   "cell_type": "code",
   "execution_count": 18,
   "metadata": {},
   "outputs": [],
   "source": [
    "def p(q1,q2,q3,a):\n",
    "    return a - q1 - q2 - q3\n",
    "\n",
    "# We define the cost function:\n",
    "\n",
    "def cost(q,c):\n",
    "    cost = q * c\n",
    "    return cost\n",
    "\n",
    "# We define the profit function for firm 1:\n",
    "\n",
    "def profit1(q1,q2,q3,a,c):\n",
    "    return p(q1,q2,q3,a) * q1 - cost(q1,c)\n",
    "\n",
    "# We define the profit function for firm 2:\n",
    "\n",
    "def profit2(q1,q2,q3,a,c):\n",
    "    return p(q1,q2,q3,a) * q2 - cost(q2,c)\n",
    "\n",
    "# We define the profit function for firm 3:\n",
    "\n",
    "def profit3(q1,q2,q3,a,c):\n",
    "    return p(q1,q2,q3,a) * q3 - cost(q3,c)"
   ]
  },
  {
   "cell_type": "markdown",
   "metadata": {},
   "source": [
    "We now define the best response function for the three firms:"
   ]
  },
  {
   "cell_type": "code",
   "execution_count": 19,
   "metadata": {},
   "outputs": [],
   "source": [
    "# Initial guess:\n",
    "\n",
    "q0 = [1]\n",
    "\n",
    "def best_response1(q2,q3,a,c):\n",
    "    q1opt = optimize.minimize(lambda q0: -profit1(q0,q2,q3,a,c), q0).x[0]\n",
    "    return q1opt\n",
    "\n",
    "def best_response2(q1,q3,a,c):\n",
    "    q2opt = optimize.minimize(lambda q0: -profit2(q1,q0,q3,a,c), q0).x[0]\n",
    "    return q2opt\n",
    "\n",
    "def best_response3(q1,q2,a,c):\n",
    "    q3opt = optimize.minimize(lambda q0: -profit3(q1,q2,q0,a,c), q0).x[0]\n",
    "    return q3opt"
   ]
  },
  {
   "cell_type": "markdown",
   "metadata": {},
   "source": [
    "We set up the three equations, with three unkown, that must be solved:"
   ]
  },
  {
   "cell_type": "code",
   "execution_count": 20,
   "metadata": {},
   "outputs": [],
   "source": [
    "def conditions(q,parameters):\n",
    "    u = q[0] - best_response1(q[1],q[2],parameters[0],parameters[1])\n",
    "    y = q[1] - best_response2(q[0],q[2],parameters[0],parameters[2])\n",
    "    z = q[2] - best_response3(q[0],q[1],parameters[0],parameters[3])\n",
    "    return [u,y,z]"
   ]
  },
  {
   "cell_type": "markdown",
   "metadata": {},
   "source": [
    "We now define a vector, which consists of the initial values for the production of each firm called $q$. Below we have expanded with float sliders where you can adjust the marginal cost for each firm and the intersection point, whereafter the production for each firm in the Nash equilibrium is shown. We have again defined all production functions and set 0, as the minimum production level if the Nash equilibrium production level is negative."
   ]
  },
  {
   "cell_type": "code",
   "execution_count": 21,
   "metadata": {},
   "outputs": [
    {
     "data": {
      "application/vnd.jupyter.widget-view+json": {
       "model_id": "cb21e68e4aa749729130e03f8e4cb637",
       "version_major": 2,
       "version_minor": 0
      },
      "text/plain": [
       "interactive(children=(FloatSlider(value=0.0, description='$c_1$', max=5.0), FloatSlider(value=0.0, description…"
      ]
     },
     "metadata": {},
     "output_type": "display_data"
    },
    {
     "data": {
      "text/plain": [
       "<function __main__.h(c1, c2, c3, a)>"
      ]
     },
     "execution_count": 21,
     "metadata": {},
     "output_type": "execute_result"
    }
   ],
   "source": [
    "# Production vector, initial values:\n",
    "\n",
    "q = [2,2,2]\n",
    "\n",
    "def h(c1,c2,c3,a):\n",
    "    parameters = [a,c1,c2,c3]\n",
    "    solver = optimize.fsolve(conditions,q,args=(parameters))\n",
    "    if solver[0] < 0:\n",
    "        solver[0] = 0\n",
    "    if solver[1] < 0:\n",
    "        solver[1] = 0\n",
    "    if solver[2] < 0:\n",
    "        solver[2] = 0\n",
    "    \n",
    "    print(\" \\nNash equilibrium:\\nIn the Nash equilibrium, firm 1 produces \" + str(round(solver[0],2)) + \" units, firm 2 produces \" + str(round(solver[1],2)) + \" units, and  firm 3 produces \" + str(round(solver[2],2)) + \" units.\")\n",
    "\n",
    "widgets.interact(h,\n",
    "    c1 = widgets.FloatSlider(description=\"$c_1$\",min=0,max=5),\n",
    "    c2 = widgets.FloatSlider(description=\"$c_2$\",min=0,max=5),\n",
    "    c3 = widgets.FloatSlider(description=\"$c_3$\",min=0,max=5),\n",
    "    a = widgets.FloatSlider(description=\"$a$\", min=5,max=10),\n",
    " )"
   ]
  },
  {
   "cell_type": "markdown",
   "metadata": {},
   "source": [
    "## Conclusion"
   ]
  },
  {
   "cell_type": "markdown",
   "metadata": {},
   "source": [
    "We conclude that when two firms compete on quantity, they will produce an amount that corresponds to a best response, given the production of the other firm, when they are in equilibrium. The same holds when we extend the model from two to three firms. It holds that the production of each firm is negatively related to the production of the other firms and negatively related to its marginal cost."
   ]
  },
  {
   "cell_type": "markdown",
   "metadata": {},
   "source": [
    "## Appendix - Analytical approach"
   ]
  },
  {
   "cell_type": "markdown",
   "metadata": {},
   "source": [
    "#### Here you can get a brief guide on how to find the analytical solution for a Nash equilibrium in a Cournout setting with two firms:"
   ]
  },
  {
   "cell_type": "markdown",
   "metadata": {},
   "source": [
    "We look for a Nash Equilibrium, where both firms choose their best response, given the other firms best response.\n",
    "\n",
    "The equations showing the profit for the two firms are:\n",
    "\n",
    "Firm 1 profit: $\\pi_1(q_1,q_2) = P(Q) * q_1 - c * q_1$\n",
    "\n",
    "Firm 2 profit: $\\pi_2(q_1,q_2) = P(Q) * q_2 - c * q_2$\n",
    "\n",
    "We insert the price function and the marginal cost:\n",
    "\n",
    "Firm 1 profit: $\\pi_1(q_1,q_2) = (a - q_1 - q_2 - c) * q_1$\n",
    "\n",
    "Firm 2 profit: $\\pi_2(q_1,q_2) = (a - q_1 - q_2 - c) * q_2$"
   ]
  },
  {
   "cell_type": "markdown",
   "metadata": {},
   "source": [
    "Since both firms want to maximize profit, we calculate the best response function, given every quantity the other firm chooses to produce:\n",
    "\n",
    "### $\\frac{\\partial \\pi_1}{\\partial q_1} = 0$ <=> $ q_1(q_2) = \\frac{a-c-q_2}{2}$\n",
    "### $\\frac{\\partial \\pi_2}{\\partial q_2} = 0$ <=> $ q_2(q_1) = \\frac{a-c-q_1}{2}$"
   ]
  },
  {
   "cell_type": "markdown",
   "metadata": {},
   "source": [
    "We calculate the best response quantity, given the equilibrium quantity of the other firm and use that we are in a Nash Equilibrium\n",
    "\n",
    "### $ q_1^* = \\frac{a-c-q_2^*}{2}$\n",
    "### $ q_2^* = \\frac{a-c-q_1^*}{2}$"
   ]
  },
  {
   "cell_type": "markdown",
   "metadata": {},
   "source": [
    "We now solve the equilibrium amounts, by inserting the second equation in the first and imposing symmetry:\n",
    "\n",
    "### $q_1^* = \\frac{a-c-\\frac{(a-c-q_1^*)}{2}}{2} <=> q_1^* = \\frac{a-c}{3} = q_2^*$\n"
   ]
  }
 ],
 "metadata": {
  "kernelspec": {
   "display_name": "Python 3",
   "language": "python",
   "name": "python3"
  },
  "language_info": {
   "codemirror_mode": {
    "name": "ipython",
    "version": 3
   },
   "file_extension": ".py",
   "mimetype": "text/x-python",
   "name": "python",
   "nbconvert_exporter": "python",
   "pygments_lexer": "ipython3",
   "version": "3.7.1"
  }
 },
 "nbformat": 4,
 "nbformat_minor": 2
}
